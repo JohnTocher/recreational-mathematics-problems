{
 "cells": [
  {
   "cell_type": "markdown",
   "source": [
    "Solution by Mirko Stojiljković, https://realpython.com/team/mstojiljkovic/"
   ],
   "metadata": {}
  },
  {
   "cell_type": "markdown",
   "source": [
    "# Inputs:"
   ],
   "metadata": {}
  },
  {
   "cell_type": "code",
   "execution_count": 1,
   "source": [
    "_START = 'NE'\n",
    "_STATES = ('ID', 'MT', 'NE', 'ND', 'OR', 'SD', 'WA', 'WY')\n",
    "_BORDERS = (\n",
    "    {'ID', 'MT'}, {'ID', 'OR'}, {'ID', 'WA'}, {'ID', 'WY'}, {'MT', 'ND'},\n",
    "    {'MT', 'SD'}, {'MT', 'WY'}, {'NE', 'SD'}, {'NE', 'WY'}, {'ND', 'SD'},\n",
    "    {'OR', 'WA'}, {'SD', 'WY'}\n",
    ")"
   ],
   "outputs": [],
   "metadata": {}
  },
  {
   "cell_type": "markdown",
   "source": [
    "# Helper functions:"
   ],
   "metadata": {}
  },
  {
   "cell_type": "code",
   "execution_count": 2,
   "source": [
    "def get_borders(state, all_borders):\n",
    "    return [bord for bord in _BORDERS if state in bord]\n",
    "\n",
    "def get_neighbors(state, all_borders):\n",
    "    return {(bord - {state}).pop() for bord in get_borders(state, all_borders)}"
   ],
   "outputs": [],
   "metadata": {}
  },
  {
   "cell_type": "markdown",
   "source": [
    "# Testing helper functions (not a part of the solution):"
   ],
   "metadata": {}
  },
  {
   "cell_type": "code",
   "execution_count": 3,
   "source": [
    "for item, func in zip(('borders', 'neighbors'), (get_borders, get_neighbors)):\n",
    "    print(f'{item} by state (not a part of the solution):')\n",
    "    for i, state in enumerate(sorted(_STATES), start=1):\n",
    "        result = func(state, _BORDERS)\n",
    "        print(f'{i}. {state} ({len(result)}): {sorted(result)}')\n",
    "    print()"
   ],
   "outputs": [
    {
     "output_type": "stream",
     "name": "stdout",
     "text": [
      "borders by state (not a part of the solution):\n",
      "1. ID (4): [{'MT', 'ID'}, {'OR', 'ID'}, {'WA', 'ID'}, {'WY', 'ID'}]\n",
      "2. MT (4): [{'MT', 'ID'}, {'ND', 'MT'}, {'SD', 'MT'}, {'WY', 'MT'}]\n",
      "3. ND (2): [{'ND', 'MT'}, {'SD', 'ND'}]\n",
      "4. NE (2): [{'SD', 'NE'}, {'WY', 'NE'}]\n",
      "5. OR (2): [{'OR', 'ID'}, {'WA', 'OR'}]\n",
      "6. SD (4): [{'SD', 'MT'}, {'SD', 'NE'}, {'SD', 'ND'}, {'SD', 'WY'}]\n",
      "7. WA (2): [{'WA', 'ID'}, {'WA', 'OR'}]\n",
      "8. WY (4): [{'WY', 'ID'}, {'WY', 'MT'}, {'WY', 'NE'}, {'SD', 'WY'}]\n",
      "\n",
      "neighbors by state (not a part of the solution):\n",
      "1. ID (4): ['MT', 'OR', 'WA', 'WY']\n",
      "2. MT (4): ['ID', 'ND', 'SD', 'WY']\n",
      "3. ND (2): ['MT', 'SD']\n",
      "4. NE (2): ['SD', 'WY']\n",
      "5. OR (2): ['ID', 'WA']\n",
      "6. SD (4): ['MT', 'ND', 'NE', 'WY']\n",
      "7. WA (2): ['ID', 'OR']\n",
      "8. WY (4): ['ID', 'MT', 'NE', 'SD']\n",
      "\n"
     ]
    }
   ],
   "metadata": {}
  },
  {
   "cell_type": "markdown",
   "source": [
    "# The implementation of the solution:"
   ],
   "metadata": {}
  },
  {
   "cell_type": "code",
   "execution_count": 4,
   "source": [
    "class Solver:\n",
    "    def __init__(self):\n",
    "        self.__n_borders = len(_BORDERS)\n",
    "        self.__solution_paths, self.__solution_borders = [], []\n",
    "\n",
    "    def _move(self, state, path, passed_borders):\n",
    "        if len(passed_borders) == self.__n_borders:\n",
    "            self.__solution_paths.append(path)\n",
    "            self.__solution_borders.append(passed_borders)\n",
    "        else:\n",
    "            for nbor in get_neighbors(state, _BORDERS):\n",
    "                if (bord := {state, nbor}) not in passed_borders:\n",
    "                    self._move(nbor, path + [nbor], passed_borders + [bord])\n",
    "\n",
    "    def solve(self):\n",
    "        self._move(_START, [_START], [])\n",
    "        return self.__solution_paths.copy(), self.__solution_borders.copy()"
   ],
   "outputs": [],
   "metadata": {}
  },
  {
   "cell_type": "code",
   "execution_count": 5,
   "source": [
    "solution_paths, solution_borders = Solver().solve()"
   ],
   "outputs": [],
   "metadata": {}
  },
  {
   "cell_type": "markdown",
   "source": [
    "# Displaying results:"
   ],
   "metadata": {}
  },
  {
   "cell_type": "code",
   "execution_count": 6,
   "source": [
    "for item, sol in zip(('paths', 'borders'), (solution_paths, solution_borders)):\n",
    "    print(f'found {item} ({len(sol)}):')\n",
    "    for result in sol:\n",
    "        print(result)\n",
    "    print()"
   ],
   "outputs": [
    {
     "output_type": "stream",
     "name": "stdout",
     "text": [
      "found paths (64):\n",
      "['NE', 'SD', 'ND', 'MT', 'SD', 'WY', 'MT', 'ID', 'WA', 'OR', 'ID', 'WY', 'NE']\n",
      "['NE', 'SD', 'ND', 'MT', 'SD', 'WY', 'MT', 'ID', 'OR', 'WA', 'ID', 'WY', 'NE']\n",
      "['NE', 'SD', 'ND', 'MT', 'SD', 'WY', 'ID', 'WA', 'OR', 'ID', 'MT', 'WY', 'NE']\n",
      "['NE', 'SD', 'ND', 'MT', 'SD', 'WY', 'ID', 'OR', 'WA', 'ID', 'MT', 'WY', 'NE']\n",
      "['NE', 'SD', 'ND', 'MT', 'WY', 'ID', 'WA', 'OR', 'ID', 'MT', 'SD', 'WY', 'NE']\n",
      "['NE', 'SD', 'ND', 'MT', 'WY', 'ID', 'OR', 'WA', 'ID', 'MT', 'SD', 'WY', 'NE']\n",
      "['NE', 'SD', 'ND', 'MT', 'WY', 'SD', 'MT', 'ID', 'WA', 'OR', 'ID', 'WY', 'NE']\n",
      "['NE', 'SD', 'ND', 'MT', 'WY', 'SD', 'MT', 'ID', 'OR', 'WA', 'ID', 'WY', 'NE']\n",
      "['NE', 'SD', 'ND', 'MT', 'ID', 'WA', 'OR', 'ID', 'WY', 'MT', 'SD', 'WY', 'NE']\n",
      "['NE', 'SD', 'ND', 'MT', 'ID', 'WA', 'OR', 'ID', 'WY', 'SD', 'MT', 'WY', 'NE']\n",
      "['NE', 'SD', 'ND', 'MT', 'ID', 'OR', 'WA', 'ID', 'WY', 'MT', 'SD', 'WY', 'NE']\n",
      "['NE', 'SD', 'ND', 'MT', 'ID', 'OR', 'WA', 'ID', 'WY', 'SD', 'MT', 'WY', 'NE']\n",
      "['NE', 'SD', 'WY', 'MT', 'SD', 'ND', 'MT', 'ID', 'WA', 'OR', 'ID', 'WY', 'NE']\n",
      "['NE', 'SD', 'WY', 'MT', 'SD', 'ND', 'MT', 'ID', 'OR', 'WA', 'ID', 'WY', 'NE']\n",
      "['NE', 'SD', 'WY', 'MT', 'ND', 'SD', 'MT', 'ID', 'WA', 'OR', 'ID', 'WY', 'NE']\n",
      "['NE', 'SD', 'WY', 'MT', 'ND', 'SD', 'MT', 'ID', 'OR', 'WA', 'ID', 'WY', 'NE']\n",
      "['NE', 'SD', 'WY', 'ID', 'WA', 'OR', 'ID', 'MT', 'SD', 'ND', 'MT', 'WY', 'NE']\n",
      "['NE', 'SD', 'WY', 'ID', 'WA', 'OR', 'ID', 'MT', 'ND', 'SD', 'MT', 'WY', 'NE']\n",
      "['NE', 'SD', 'WY', 'ID', 'OR', 'WA', 'ID', 'MT', 'SD', 'ND', 'MT', 'WY', 'NE']\n",
      "['NE', 'SD', 'WY', 'ID', 'OR', 'WA', 'ID', 'MT', 'ND', 'SD', 'MT', 'WY', 'NE']\n",
      "['NE', 'SD', 'MT', 'WY', 'ID', 'WA', 'OR', 'ID', 'MT', 'ND', 'SD', 'WY', 'NE']\n",
      "['NE', 'SD', 'MT', 'WY', 'ID', 'OR', 'WA', 'ID', 'MT', 'ND', 'SD', 'WY', 'NE']\n",
      "['NE', 'SD', 'MT', 'WY', 'SD', 'ND', 'MT', 'ID', 'WA', 'OR', 'ID', 'WY', 'NE']\n",
      "['NE', 'SD', 'MT', 'WY', 'SD', 'ND', 'MT', 'ID', 'OR', 'WA', 'ID', 'WY', 'NE']\n",
      "['NE', 'SD', 'MT', 'ND', 'SD', 'WY', 'MT', 'ID', 'WA', 'OR', 'ID', 'WY', 'NE']\n",
      "['NE', 'SD', 'MT', 'ND', 'SD', 'WY', 'MT', 'ID', 'OR', 'WA', 'ID', 'WY', 'NE']\n",
      "['NE', 'SD', 'MT', 'ND', 'SD', 'WY', 'ID', 'WA', 'OR', 'ID', 'MT', 'WY', 'NE']\n",
      "['NE', 'SD', 'MT', 'ND', 'SD', 'WY', 'ID', 'OR', 'WA', 'ID', 'MT', 'WY', 'NE']\n",
      "['NE', 'SD', 'MT', 'ID', 'WA', 'OR', 'ID', 'WY', 'MT', 'ND', 'SD', 'WY', 'NE']\n",
      "['NE', 'SD', 'MT', 'ID', 'WA', 'OR', 'ID', 'WY', 'SD', 'ND', 'MT', 'WY', 'NE']\n",
      "['NE', 'SD', 'MT', 'ID', 'OR', 'WA', 'ID', 'WY', 'MT', 'ND', 'SD', 'WY', 'NE']\n",
      "['NE', 'SD', 'MT', 'ID', 'OR', 'WA', 'ID', 'WY', 'SD', 'ND', 'MT', 'WY', 'NE']\n",
      "['NE', 'WY', 'MT', 'SD', 'ND', 'MT', 'ID', 'WA', 'OR', 'ID', 'WY', 'SD', 'NE']\n",
      "['NE', 'WY', 'MT', 'SD', 'ND', 'MT', 'ID', 'OR', 'WA', 'ID', 'WY', 'SD', 'NE']\n",
      "['NE', 'WY', 'MT', 'SD', 'WY', 'ID', 'WA', 'OR', 'ID', 'MT', 'ND', 'SD', 'NE']\n",
      "['NE', 'WY', 'MT', 'SD', 'WY', 'ID', 'OR', 'WA', 'ID', 'MT', 'ND', 'SD', 'NE']\n",
      "['NE', 'WY', 'MT', 'ND', 'SD', 'WY', 'ID', 'WA', 'OR', 'ID', 'MT', 'SD', 'NE']\n",
      "['NE', 'WY', 'MT', 'ND', 'SD', 'WY', 'ID', 'OR', 'WA', 'ID', 'MT', 'SD', 'NE']\n",
      "['NE', 'WY', 'MT', 'ND', 'SD', 'MT', 'ID', 'WA', 'OR', 'ID', 'WY', 'SD', 'NE']\n",
      "['NE', 'WY', 'MT', 'ND', 'SD', 'MT', 'ID', 'OR', 'WA', 'ID', 'WY', 'SD', 'NE']\n",
      "['NE', 'WY', 'MT', 'ID', 'WA', 'OR', 'ID', 'WY', 'SD', 'ND', 'MT', 'SD', 'NE']\n",
      "['NE', 'WY', 'MT', 'ID', 'WA', 'OR', 'ID', 'WY', 'SD', 'MT', 'ND', 'SD', 'NE']\n",
      "['NE', 'WY', 'MT', 'ID', 'OR', 'WA', 'ID', 'WY', 'SD', 'ND', 'MT', 'SD', 'NE']\n",
      "['NE', 'WY', 'MT', 'ID', 'OR', 'WA', 'ID', 'WY', 'SD', 'MT', 'ND', 'SD', 'NE']\n",
      "['NE', 'WY', 'ID', 'WA', 'OR', 'ID', 'MT', 'SD', 'ND', 'MT', 'WY', 'SD', 'NE']\n",
      "['NE', 'WY', 'ID', 'WA', 'OR', 'ID', 'MT', 'SD', 'WY', 'MT', 'ND', 'SD', 'NE']\n",
      "['NE', 'WY', 'ID', 'WA', 'OR', 'ID', 'MT', 'WY', 'SD', 'ND', 'MT', 'SD', 'NE']\n",
      "['NE', 'WY', 'ID', 'WA', 'OR', 'ID', 'MT', 'WY', 'SD', 'MT', 'ND', 'SD', 'NE']\n",
      "['NE', 'WY', 'ID', 'WA', 'OR', 'ID', 'MT', 'ND', 'SD', 'WY', 'MT', 'SD', 'NE']\n",
      "['NE', 'WY', 'ID', 'WA', 'OR', 'ID', 'MT', 'ND', 'SD', 'MT', 'WY', 'SD', 'NE']\n",
      "['NE', 'WY', 'ID', 'OR', 'WA', 'ID', 'MT', 'SD', 'ND', 'MT', 'WY', 'SD', 'NE']\n",
      "['NE', 'WY', 'ID', 'OR', 'WA', 'ID', 'MT', 'SD', 'WY', 'MT', 'ND', 'SD', 'NE']\n",
      "['NE', 'WY', 'ID', 'OR', 'WA', 'ID', 'MT', 'WY', 'SD', 'ND', 'MT', 'SD', 'NE']\n",
      "['NE', 'WY', 'ID', 'OR', 'WA', 'ID', 'MT', 'WY', 'SD', 'MT', 'ND', 'SD', 'NE']\n",
      "['NE', 'WY', 'ID', 'OR', 'WA', 'ID', 'MT', 'ND', 'SD', 'WY', 'MT', 'SD', 'NE']\n",
      "['NE', 'WY', 'ID', 'OR', 'WA', 'ID', 'MT', 'ND', 'SD', 'MT', 'WY', 'SD', 'NE']\n",
      "['NE', 'WY', 'SD', 'ND', 'MT', 'WY', 'ID', 'WA', 'OR', 'ID', 'MT', 'SD', 'NE']\n",
      "['NE', 'WY', 'SD', 'ND', 'MT', 'WY', 'ID', 'OR', 'WA', 'ID', 'MT', 'SD', 'NE']\n",
      "['NE', 'WY', 'SD', 'ND', 'MT', 'ID', 'WA', 'OR', 'ID', 'WY', 'MT', 'SD', 'NE']\n",
      "['NE', 'WY', 'SD', 'ND', 'MT', 'ID', 'OR', 'WA', 'ID', 'WY', 'MT', 'SD', 'NE']\n",
      "['NE', 'WY', 'SD', 'MT', 'WY', 'ID', 'WA', 'OR', 'ID', 'MT', 'ND', 'SD', 'NE']\n",
      "['NE', 'WY', 'SD', 'MT', 'WY', 'ID', 'OR', 'WA', 'ID', 'MT', 'ND', 'SD', 'NE']\n",
      "['NE', 'WY', 'SD', 'MT', 'ID', 'WA', 'OR', 'ID', 'WY', 'MT', 'ND', 'SD', 'NE']\n",
      "['NE', 'WY', 'SD', 'MT', 'ID', 'OR', 'WA', 'ID', 'WY', 'MT', 'ND', 'SD', 'NE']\n",
      "\n",
      "found borders (64):\n",
      "[{'SD', 'NE'}, {'SD', 'ND'}, {'ND', 'MT'}, {'SD', 'MT'}, {'SD', 'WY'}, {'WY', 'MT'}, {'MT', 'ID'}, {'WA', 'ID'}, {'WA', 'OR'}, {'OR', 'ID'}, {'WY', 'ID'}, {'WY', 'NE'}]\n",
      "[{'SD', 'NE'}, {'SD', 'ND'}, {'ND', 'MT'}, {'SD', 'MT'}, {'SD', 'WY'}, {'WY', 'MT'}, {'MT', 'ID'}, {'OR', 'ID'}, {'WA', 'OR'}, {'WA', 'ID'}, {'WY', 'ID'}, {'WY', 'NE'}]\n",
      "[{'SD', 'NE'}, {'SD', 'ND'}, {'ND', 'MT'}, {'SD', 'MT'}, {'SD', 'WY'}, {'WY', 'ID'}, {'WA', 'ID'}, {'WA', 'OR'}, {'OR', 'ID'}, {'MT', 'ID'}, {'WY', 'MT'}, {'WY', 'NE'}]\n",
      "[{'SD', 'NE'}, {'SD', 'ND'}, {'ND', 'MT'}, {'SD', 'MT'}, {'SD', 'WY'}, {'WY', 'ID'}, {'OR', 'ID'}, {'WA', 'OR'}, {'WA', 'ID'}, {'MT', 'ID'}, {'WY', 'MT'}, {'WY', 'NE'}]\n",
      "[{'SD', 'NE'}, {'SD', 'ND'}, {'ND', 'MT'}, {'WY', 'MT'}, {'WY', 'ID'}, {'WA', 'ID'}, {'WA', 'OR'}, {'OR', 'ID'}, {'MT', 'ID'}, {'SD', 'MT'}, {'SD', 'WY'}, {'WY', 'NE'}]\n",
      "[{'SD', 'NE'}, {'SD', 'ND'}, {'ND', 'MT'}, {'WY', 'MT'}, {'WY', 'ID'}, {'OR', 'ID'}, {'WA', 'OR'}, {'WA', 'ID'}, {'MT', 'ID'}, {'SD', 'MT'}, {'SD', 'WY'}, {'WY', 'NE'}]\n",
      "[{'SD', 'NE'}, {'SD', 'ND'}, {'ND', 'MT'}, {'WY', 'MT'}, {'SD', 'WY'}, {'SD', 'MT'}, {'MT', 'ID'}, {'WA', 'ID'}, {'WA', 'OR'}, {'OR', 'ID'}, {'WY', 'ID'}, {'WY', 'NE'}]\n",
      "[{'SD', 'NE'}, {'SD', 'ND'}, {'ND', 'MT'}, {'WY', 'MT'}, {'SD', 'WY'}, {'SD', 'MT'}, {'MT', 'ID'}, {'OR', 'ID'}, {'WA', 'OR'}, {'WA', 'ID'}, {'WY', 'ID'}, {'WY', 'NE'}]\n",
      "[{'SD', 'NE'}, {'SD', 'ND'}, {'ND', 'MT'}, {'MT', 'ID'}, {'WA', 'ID'}, {'WA', 'OR'}, {'OR', 'ID'}, {'WY', 'ID'}, {'WY', 'MT'}, {'SD', 'MT'}, {'SD', 'WY'}, {'WY', 'NE'}]\n",
      "[{'SD', 'NE'}, {'SD', 'ND'}, {'ND', 'MT'}, {'MT', 'ID'}, {'WA', 'ID'}, {'WA', 'OR'}, {'OR', 'ID'}, {'WY', 'ID'}, {'SD', 'WY'}, {'SD', 'MT'}, {'WY', 'MT'}, {'WY', 'NE'}]\n",
      "[{'SD', 'NE'}, {'SD', 'ND'}, {'ND', 'MT'}, {'MT', 'ID'}, {'OR', 'ID'}, {'WA', 'OR'}, {'WA', 'ID'}, {'WY', 'ID'}, {'WY', 'MT'}, {'SD', 'MT'}, {'SD', 'WY'}, {'WY', 'NE'}]\n",
      "[{'SD', 'NE'}, {'SD', 'ND'}, {'ND', 'MT'}, {'MT', 'ID'}, {'OR', 'ID'}, {'WA', 'OR'}, {'WA', 'ID'}, {'WY', 'ID'}, {'SD', 'WY'}, {'SD', 'MT'}, {'WY', 'MT'}, {'WY', 'NE'}]\n",
      "[{'SD', 'NE'}, {'SD', 'WY'}, {'WY', 'MT'}, {'SD', 'MT'}, {'SD', 'ND'}, {'ND', 'MT'}, {'MT', 'ID'}, {'WA', 'ID'}, {'WA', 'OR'}, {'OR', 'ID'}, {'WY', 'ID'}, {'WY', 'NE'}]\n",
      "[{'SD', 'NE'}, {'SD', 'WY'}, {'WY', 'MT'}, {'SD', 'MT'}, {'SD', 'ND'}, {'ND', 'MT'}, {'MT', 'ID'}, {'OR', 'ID'}, {'WA', 'OR'}, {'WA', 'ID'}, {'WY', 'ID'}, {'WY', 'NE'}]\n",
      "[{'SD', 'NE'}, {'SD', 'WY'}, {'WY', 'MT'}, {'ND', 'MT'}, {'SD', 'ND'}, {'SD', 'MT'}, {'MT', 'ID'}, {'WA', 'ID'}, {'WA', 'OR'}, {'OR', 'ID'}, {'WY', 'ID'}, {'WY', 'NE'}]\n",
      "[{'SD', 'NE'}, {'SD', 'WY'}, {'WY', 'MT'}, {'ND', 'MT'}, {'SD', 'ND'}, {'SD', 'MT'}, {'MT', 'ID'}, {'OR', 'ID'}, {'WA', 'OR'}, {'WA', 'ID'}, {'WY', 'ID'}, {'WY', 'NE'}]\n",
      "[{'SD', 'NE'}, {'SD', 'WY'}, {'WY', 'ID'}, {'WA', 'ID'}, {'WA', 'OR'}, {'OR', 'ID'}, {'MT', 'ID'}, {'SD', 'MT'}, {'SD', 'ND'}, {'ND', 'MT'}, {'WY', 'MT'}, {'WY', 'NE'}]\n",
      "[{'SD', 'NE'}, {'SD', 'WY'}, {'WY', 'ID'}, {'WA', 'ID'}, {'WA', 'OR'}, {'OR', 'ID'}, {'MT', 'ID'}, {'ND', 'MT'}, {'SD', 'ND'}, {'SD', 'MT'}, {'WY', 'MT'}, {'WY', 'NE'}]\n",
      "[{'SD', 'NE'}, {'SD', 'WY'}, {'WY', 'ID'}, {'OR', 'ID'}, {'WA', 'OR'}, {'WA', 'ID'}, {'MT', 'ID'}, {'SD', 'MT'}, {'SD', 'ND'}, {'ND', 'MT'}, {'WY', 'MT'}, {'WY', 'NE'}]\n",
      "[{'SD', 'NE'}, {'SD', 'WY'}, {'WY', 'ID'}, {'OR', 'ID'}, {'WA', 'OR'}, {'WA', 'ID'}, {'MT', 'ID'}, {'ND', 'MT'}, {'SD', 'ND'}, {'SD', 'MT'}, {'WY', 'MT'}, {'WY', 'NE'}]\n",
      "[{'SD', 'NE'}, {'SD', 'MT'}, {'WY', 'MT'}, {'WY', 'ID'}, {'WA', 'ID'}, {'WA', 'OR'}, {'OR', 'ID'}, {'MT', 'ID'}, {'ND', 'MT'}, {'SD', 'ND'}, {'SD', 'WY'}, {'WY', 'NE'}]\n",
      "[{'SD', 'NE'}, {'SD', 'MT'}, {'WY', 'MT'}, {'WY', 'ID'}, {'OR', 'ID'}, {'WA', 'OR'}, {'WA', 'ID'}, {'MT', 'ID'}, {'ND', 'MT'}, {'SD', 'ND'}, {'SD', 'WY'}, {'WY', 'NE'}]\n",
      "[{'SD', 'NE'}, {'SD', 'MT'}, {'WY', 'MT'}, {'SD', 'WY'}, {'SD', 'ND'}, {'ND', 'MT'}, {'MT', 'ID'}, {'WA', 'ID'}, {'WA', 'OR'}, {'OR', 'ID'}, {'WY', 'ID'}, {'WY', 'NE'}]\n",
      "[{'SD', 'NE'}, {'SD', 'MT'}, {'WY', 'MT'}, {'SD', 'WY'}, {'SD', 'ND'}, {'ND', 'MT'}, {'MT', 'ID'}, {'OR', 'ID'}, {'WA', 'OR'}, {'WA', 'ID'}, {'WY', 'ID'}, {'WY', 'NE'}]\n",
      "[{'SD', 'NE'}, {'SD', 'MT'}, {'ND', 'MT'}, {'SD', 'ND'}, {'SD', 'WY'}, {'WY', 'MT'}, {'MT', 'ID'}, {'WA', 'ID'}, {'WA', 'OR'}, {'OR', 'ID'}, {'WY', 'ID'}, {'WY', 'NE'}]\n",
      "[{'SD', 'NE'}, {'SD', 'MT'}, {'ND', 'MT'}, {'SD', 'ND'}, {'SD', 'WY'}, {'WY', 'MT'}, {'MT', 'ID'}, {'OR', 'ID'}, {'WA', 'OR'}, {'WA', 'ID'}, {'WY', 'ID'}, {'WY', 'NE'}]\n",
      "[{'SD', 'NE'}, {'SD', 'MT'}, {'ND', 'MT'}, {'SD', 'ND'}, {'SD', 'WY'}, {'WY', 'ID'}, {'WA', 'ID'}, {'WA', 'OR'}, {'OR', 'ID'}, {'MT', 'ID'}, {'WY', 'MT'}, {'WY', 'NE'}]\n",
      "[{'SD', 'NE'}, {'SD', 'MT'}, {'ND', 'MT'}, {'SD', 'ND'}, {'SD', 'WY'}, {'WY', 'ID'}, {'OR', 'ID'}, {'WA', 'OR'}, {'WA', 'ID'}, {'MT', 'ID'}, {'WY', 'MT'}, {'WY', 'NE'}]\n",
      "[{'SD', 'NE'}, {'SD', 'MT'}, {'MT', 'ID'}, {'WA', 'ID'}, {'WA', 'OR'}, {'OR', 'ID'}, {'WY', 'ID'}, {'WY', 'MT'}, {'ND', 'MT'}, {'SD', 'ND'}, {'SD', 'WY'}, {'WY', 'NE'}]\n",
      "[{'SD', 'NE'}, {'SD', 'MT'}, {'MT', 'ID'}, {'WA', 'ID'}, {'WA', 'OR'}, {'OR', 'ID'}, {'WY', 'ID'}, {'SD', 'WY'}, {'SD', 'ND'}, {'ND', 'MT'}, {'WY', 'MT'}, {'WY', 'NE'}]\n",
      "[{'SD', 'NE'}, {'SD', 'MT'}, {'MT', 'ID'}, {'OR', 'ID'}, {'WA', 'OR'}, {'WA', 'ID'}, {'WY', 'ID'}, {'WY', 'MT'}, {'ND', 'MT'}, {'SD', 'ND'}, {'SD', 'WY'}, {'WY', 'NE'}]\n",
      "[{'SD', 'NE'}, {'SD', 'MT'}, {'MT', 'ID'}, {'OR', 'ID'}, {'WA', 'OR'}, {'WA', 'ID'}, {'WY', 'ID'}, {'SD', 'WY'}, {'SD', 'ND'}, {'ND', 'MT'}, {'WY', 'MT'}, {'WY', 'NE'}]\n",
      "[{'WY', 'NE'}, {'WY', 'MT'}, {'SD', 'MT'}, {'SD', 'ND'}, {'ND', 'MT'}, {'MT', 'ID'}, {'WA', 'ID'}, {'WA', 'OR'}, {'OR', 'ID'}, {'WY', 'ID'}, {'SD', 'WY'}, {'SD', 'NE'}]\n",
      "[{'WY', 'NE'}, {'WY', 'MT'}, {'SD', 'MT'}, {'SD', 'ND'}, {'ND', 'MT'}, {'MT', 'ID'}, {'OR', 'ID'}, {'WA', 'OR'}, {'WA', 'ID'}, {'WY', 'ID'}, {'SD', 'WY'}, {'SD', 'NE'}]\n",
      "[{'WY', 'NE'}, {'WY', 'MT'}, {'SD', 'MT'}, {'SD', 'WY'}, {'WY', 'ID'}, {'WA', 'ID'}, {'WA', 'OR'}, {'OR', 'ID'}, {'MT', 'ID'}, {'ND', 'MT'}, {'SD', 'ND'}, {'SD', 'NE'}]\n",
      "[{'WY', 'NE'}, {'WY', 'MT'}, {'SD', 'MT'}, {'SD', 'WY'}, {'WY', 'ID'}, {'OR', 'ID'}, {'WA', 'OR'}, {'WA', 'ID'}, {'MT', 'ID'}, {'ND', 'MT'}, {'SD', 'ND'}, {'SD', 'NE'}]\n",
      "[{'WY', 'NE'}, {'WY', 'MT'}, {'ND', 'MT'}, {'SD', 'ND'}, {'SD', 'WY'}, {'WY', 'ID'}, {'WA', 'ID'}, {'WA', 'OR'}, {'OR', 'ID'}, {'MT', 'ID'}, {'SD', 'MT'}, {'SD', 'NE'}]\n",
      "[{'WY', 'NE'}, {'WY', 'MT'}, {'ND', 'MT'}, {'SD', 'ND'}, {'SD', 'WY'}, {'WY', 'ID'}, {'OR', 'ID'}, {'WA', 'OR'}, {'WA', 'ID'}, {'MT', 'ID'}, {'SD', 'MT'}, {'SD', 'NE'}]\n",
      "[{'WY', 'NE'}, {'WY', 'MT'}, {'ND', 'MT'}, {'SD', 'ND'}, {'SD', 'MT'}, {'MT', 'ID'}, {'WA', 'ID'}, {'WA', 'OR'}, {'OR', 'ID'}, {'WY', 'ID'}, {'SD', 'WY'}, {'SD', 'NE'}]\n",
      "[{'WY', 'NE'}, {'WY', 'MT'}, {'ND', 'MT'}, {'SD', 'ND'}, {'SD', 'MT'}, {'MT', 'ID'}, {'OR', 'ID'}, {'WA', 'OR'}, {'WA', 'ID'}, {'WY', 'ID'}, {'SD', 'WY'}, {'SD', 'NE'}]\n",
      "[{'WY', 'NE'}, {'WY', 'MT'}, {'MT', 'ID'}, {'WA', 'ID'}, {'WA', 'OR'}, {'OR', 'ID'}, {'WY', 'ID'}, {'SD', 'WY'}, {'SD', 'ND'}, {'ND', 'MT'}, {'SD', 'MT'}, {'SD', 'NE'}]\n",
      "[{'WY', 'NE'}, {'WY', 'MT'}, {'MT', 'ID'}, {'WA', 'ID'}, {'WA', 'OR'}, {'OR', 'ID'}, {'WY', 'ID'}, {'SD', 'WY'}, {'SD', 'MT'}, {'ND', 'MT'}, {'SD', 'ND'}, {'SD', 'NE'}]\n",
      "[{'WY', 'NE'}, {'WY', 'MT'}, {'MT', 'ID'}, {'OR', 'ID'}, {'WA', 'OR'}, {'WA', 'ID'}, {'WY', 'ID'}, {'SD', 'WY'}, {'SD', 'ND'}, {'ND', 'MT'}, {'SD', 'MT'}, {'SD', 'NE'}]\n",
      "[{'WY', 'NE'}, {'WY', 'MT'}, {'MT', 'ID'}, {'OR', 'ID'}, {'WA', 'OR'}, {'WA', 'ID'}, {'WY', 'ID'}, {'SD', 'WY'}, {'SD', 'MT'}, {'ND', 'MT'}, {'SD', 'ND'}, {'SD', 'NE'}]\n",
      "[{'WY', 'NE'}, {'WY', 'ID'}, {'WA', 'ID'}, {'WA', 'OR'}, {'OR', 'ID'}, {'MT', 'ID'}, {'SD', 'MT'}, {'SD', 'ND'}, {'ND', 'MT'}, {'WY', 'MT'}, {'SD', 'WY'}, {'SD', 'NE'}]\n",
      "[{'WY', 'NE'}, {'WY', 'ID'}, {'WA', 'ID'}, {'WA', 'OR'}, {'OR', 'ID'}, {'MT', 'ID'}, {'SD', 'MT'}, {'SD', 'WY'}, {'WY', 'MT'}, {'ND', 'MT'}, {'SD', 'ND'}, {'SD', 'NE'}]\n",
      "[{'WY', 'NE'}, {'WY', 'ID'}, {'WA', 'ID'}, {'WA', 'OR'}, {'OR', 'ID'}, {'MT', 'ID'}, {'WY', 'MT'}, {'SD', 'WY'}, {'SD', 'ND'}, {'ND', 'MT'}, {'SD', 'MT'}, {'SD', 'NE'}]\n",
      "[{'WY', 'NE'}, {'WY', 'ID'}, {'WA', 'ID'}, {'WA', 'OR'}, {'OR', 'ID'}, {'MT', 'ID'}, {'WY', 'MT'}, {'SD', 'WY'}, {'SD', 'MT'}, {'ND', 'MT'}, {'SD', 'ND'}, {'SD', 'NE'}]\n",
      "[{'WY', 'NE'}, {'WY', 'ID'}, {'WA', 'ID'}, {'WA', 'OR'}, {'OR', 'ID'}, {'MT', 'ID'}, {'ND', 'MT'}, {'SD', 'ND'}, {'SD', 'WY'}, {'WY', 'MT'}, {'SD', 'MT'}, {'SD', 'NE'}]\n",
      "[{'WY', 'NE'}, {'WY', 'ID'}, {'WA', 'ID'}, {'WA', 'OR'}, {'OR', 'ID'}, {'MT', 'ID'}, {'ND', 'MT'}, {'SD', 'ND'}, {'SD', 'MT'}, {'WY', 'MT'}, {'SD', 'WY'}, {'SD', 'NE'}]\n",
      "[{'WY', 'NE'}, {'WY', 'ID'}, {'OR', 'ID'}, {'WA', 'OR'}, {'WA', 'ID'}, {'MT', 'ID'}, {'SD', 'MT'}, {'SD', 'ND'}, {'ND', 'MT'}, {'WY', 'MT'}, {'SD', 'WY'}, {'SD', 'NE'}]\n",
      "[{'WY', 'NE'}, {'WY', 'ID'}, {'OR', 'ID'}, {'WA', 'OR'}, {'WA', 'ID'}, {'MT', 'ID'}, {'SD', 'MT'}, {'SD', 'WY'}, {'WY', 'MT'}, {'ND', 'MT'}, {'SD', 'ND'}, {'SD', 'NE'}]\n",
      "[{'WY', 'NE'}, {'WY', 'ID'}, {'OR', 'ID'}, {'WA', 'OR'}, {'WA', 'ID'}, {'MT', 'ID'}, {'WY', 'MT'}, {'SD', 'WY'}, {'SD', 'ND'}, {'ND', 'MT'}, {'SD', 'MT'}, {'SD', 'NE'}]\n",
      "[{'WY', 'NE'}, {'WY', 'ID'}, {'OR', 'ID'}, {'WA', 'OR'}, {'WA', 'ID'}, {'MT', 'ID'}, {'WY', 'MT'}, {'SD', 'WY'}, {'SD', 'MT'}, {'ND', 'MT'}, {'SD', 'ND'}, {'SD', 'NE'}]\n",
      "[{'WY', 'NE'}, {'WY', 'ID'}, {'OR', 'ID'}, {'WA', 'OR'}, {'WA', 'ID'}, {'MT', 'ID'}, {'ND', 'MT'}, {'SD', 'ND'}, {'SD', 'WY'}, {'WY', 'MT'}, {'SD', 'MT'}, {'SD', 'NE'}]\n",
      "[{'WY', 'NE'}, {'WY', 'ID'}, {'OR', 'ID'}, {'WA', 'OR'}, {'WA', 'ID'}, {'MT', 'ID'}, {'ND', 'MT'}, {'SD', 'ND'}, {'SD', 'MT'}, {'WY', 'MT'}, {'SD', 'WY'}, {'SD', 'NE'}]\n",
      "[{'WY', 'NE'}, {'SD', 'WY'}, {'SD', 'ND'}, {'ND', 'MT'}, {'WY', 'MT'}, {'WY', 'ID'}, {'WA', 'ID'}, {'WA', 'OR'}, {'OR', 'ID'}, {'MT', 'ID'}, {'SD', 'MT'}, {'SD', 'NE'}]\n",
      "[{'WY', 'NE'}, {'SD', 'WY'}, {'SD', 'ND'}, {'ND', 'MT'}, {'WY', 'MT'}, {'WY', 'ID'}, {'OR', 'ID'}, {'WA', 'OR'}, {'WA', 'ID'}, {'MT', 'ID'}, {'SD', 'MT'}, {'SD', 'NE'}]\n",
      "[{'WY', 'NE'}, {'SD', 'WY'}, {'SD', 'ND'}, {'ND', 'MT'}, {'MT', 'ID'}, {'WA', 'ID'}, {'WA', 'OR'}, {'OR', 'ID'}, {'WY', 'ID'}, {'WY', 'MT'}, {'SD', 'MT'}, {'SD', 'NE'}]\n",
      "[{'WY', 'NE'}, {'SD', 'WY'}, {'SD', 'ND'}, {'ND', 'MT'}, {'MT', 'ID'}, {'OR', 'ID'}, {'WA', 'OR'}, {'WA', 'ID'}, {'WY', 'ID'}, {'WY', 'MT'}, {'SD', 'MT'}, {'SD', 'NE'}]\n",
      "[{'WY', 'NE'}, {'SD', 'WY'}, {'SD', 'MT'}, {'WY', 'MT'}, {'WY', 'ID'}, {'WA', 'ID'}, {'WA', 'OR'}, {'OR', 'ID'}, {'MT', 'ID'}, {'ND', 'MT'}, {'SD', 'ND'}, {'SD', 'NE'}]\n",
      "[{'WY', 'NE'}, {'SD', 'WY'}, {'SD', 'MT'}, {'WY', 'MT'}, {'WY', 'ID'}, {'OR', 'ID'}, {'WA', 'OR'}, {'WA', 'ID'}, {'MT', 'ID'}, {'ND', 'MT'}, {'SD', 'ND'}, {'SD', 'NE'}]\n",
      "[{'WY', 'NE'}, {'SD', 'WY'}, {'SD', 'MT'}, {'MT', 'ID'}, {'WA', 'ID'}, {'WA', 'OR'}, {'OR', 'ID'}, {'WY', 'ID'}, {'WY', 'MT'}, {'ND', 'MT'}, {'SD', 'ND'}, {'SD', 'NE'}]\n",
      "[{'WY', 'NE'}, {'SD', 'WY'}, {'SD', 'MT'}, {'MT', 'ID'}, {'OR', 'ID'}, {'WA', 'OR'}, {'WA', 'ID'}, {'WY', 'ID'}, {'WY', 'MT'}, {'ND', 'MT'}, {'SD', 'ND'}, {'SD', 'NE'}]\n",
      "\n"
     ]
    }
   ],
   "metadata": {}
  },
  {
   "cell_type": "code",
   "execution_count": null,
   "source": [],
   "outputs": [],
   "metadata": {}
  }
 ],
 "metadata": {
  "kernelspec": {
   "display_name": "Python 3 (ms-sci)",
   "language": "python",
   "name": "ms-sci"
  },
  "language_info": {
   "codemirror_mode": {
    "name": "ipython",
    "version": 3
   },
   "file_extension": ".py",
   "mimetype": "text/x-python",
   "name": "python",
   "nbconvert_exporter": "python",
   "pygments_lexer": "ipython3",
   "version": "3.9.5"
  }
 },
 "nbformat": 4,
 "nbformat_minor": 5
}